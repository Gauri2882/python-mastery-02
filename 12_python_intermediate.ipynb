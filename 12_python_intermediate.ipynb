{
  "nbformat": 4,
  "nbformat_minor": 0,
  "metadata": {
    "colab": {
      "provenance": []
    },
    "kernelspec": {
      "name": "python3",
      "display_name": "Python 3"
    },
    "language_info": {
      "name": "python"
    }
  },
  "cells": [
    {
      "cell_type": "markdown",
      "source": [
        "# Exception handling\n",
        "\n",
        "\n",
        "*   Using try, expect, else and finally\n",
        "*   Handling multiple exception\n",
        "*   raising custom exception\n",
        "\n",
        "\n"
      ],
      "metadata": {
        "id": "4Yx7w8AbIHc4"
      }
    },
    {
      "cell_type": "code",
      "source": [
        "try:\n",
        "  num = int(input(\"Enter a number: \"))\n",
        "  result = 10 / num\n",
        "  print(\"Result:\", result)\n",
        "except ZeroDivisionError:\n",
        "  print(\"Error: Division by zero is not allowed.\")\n",
        "except ValueError:\n",
        "  print(\"Invalid input. Please enter a valid number.\")"
      ],
      "metadata": {
        "colab": {
          "base_uri": "https://localhost:8080/"
        },
        "id": "R0epJ5wPGsmi",
        "outputId": "97fd0856-054c-4834-dbd8-dd7b49439bc4"
      },
      "execution_count": 13,
      "outputs": [
        {
          "output_type": "stream",
          "name": "stdout",
          "text": [
            "Enter a number: 19\n",
            "Result: 0.5263157894736842\n"
          ]
        }
      ]
    },
    {
      "cell_type": "code",
      "source": [
        "try:\n",
        "  num = int(input(\"Enter a number: \"))\n",
        "  result = 10 / num\n",
        "except ZeroDivisionError:\n",
        "  print(\"Error: Division by zero is not allowed.\")\n",
        "else:\n",
        "  print(\"No exception occured. Result:\", result)\n",
        "finally:\n",
        "  print(\"Execution completed.\")"
      ],
      "metadata": {
        "colab": {
          "base_uri": "https://localhost:8080/"
        },
        "id": "siJxFgo5IwDt",
        "outputId": "8c78d5fd-f062-4d18-cecb-c929de5c5af9"
      },
      "execution_count": 18,
      "outputs": [
        {
          "output_type": "stream",
          "name": "stdout",
          "text": [
            "Enter a number: ghi\n",
            "Invalid input. Please enter a valid number.\n",
            "Execution completed.\n"
          ]
        }
      ]
    },
    {
      "cell_type": "code",
      "source": [
        "try:\n",
        "  num = int(input(\"Enter a number: \"))\n",
        "  result = 10 / num\n",
        "except (ZeroDivisionError, ValueError):\n",
        "  print(\"Invalid input or division by zero is not allowed.\")"
      ],
      "metadata": {
        "id": "CI5fSnbcJbbn"
      },
      "execution_count": null,
      "outputs": []
    },
    {
      "cell_type": "code",
      "source": [
        "def withdraw(amount):\n",
        "  if amount < 0:\n",
        "    raise ValueError(\"Invalid withdrawal amount - Amount cannot be negative\")\n",
        "  print(f\"You have withdrawn ${amount}\")\n",
        "\n",
        "try:\n",
        "  amount = int(input(\"Enter amount to withdraw: \"))\n",
        "  withdraw(amount)\n",
        "except ValueError as e:\n",
        "  print(f\"Error: {e}\")"
      ],
      "metadata": {
        "colab": {
          "base_uri": "https://localhost:8080/"
        },
        "id": "5Bn6iYAtJbYJ",
        "outputId": "83e1ab1f-6836-4bfc-8345-85de5095816b"
      },
      "execution_count": 22,
      "outputs": [
        {
          "output_type": "stream",
          "name": "stdout",
          "text": [
            "Enter amount to withdraw: -50\n",
            "Error: Invalid withdrawal amount - Amount cannot be negative\n"
          ]
        }
      ]
    },
    {
      "cell_type": "markdown",
      "source": [
        "# Project: Safe Calculator"
      ],
      "metadata": {
        "id": "dhsFpdcqGjeh"
      }
    },
    {
      "cell_type": "code",
      "source": [
        "# step 1: Define calculator functions\n",
        "def add(x, y):\n",
        "  return x + y\n",
        "\n",
        "def subtract(x, y):\n",
        "  return x - y\n",
        "\n",
        "def multiply(x, y):\n",
        "  return x * y\n",
        "\n",
        "def divide(x, y):\n",
        "  if y == 0:\n",
        "    raise ZeroDivisionError(\"Cannot divide by zero\")\n",
        "  return x / y\n",
        "\n",
        "# step 2: Display Menu\n",
        "def show_menu():\n",
        "  print(\"\\n---- Select operation ----\")\n",
        "  print(\"1. Add\")\n",
        "  print(\"2. Subtract\")\n",
        "  print(\"3. Multiply\")\n",
        "  print(\"4. Divide\")\n",
        "  print(\"5. Exit\")\n",
        "\n",
        "# step 3: Get user input\n",
        "while True:\n",
        "  show_menu()\n",
        "  choice = input(\"Enter choice (1/2/3/4/5): \")\n",
        "\n",
        "  if choice == '5':\n",
        "    print(\"Exiting the calculator. Goodbye!\")\n",
        "    break\n",
        "\n",
        "  try:\n",
        "    num1 = float(input(\"Enter first number: \"))\n",
        "    num2 = float(input(\"Enter second number: \"))\n",
        "\n",
        "    if choice == '1':\n",
        "      print(\"Result:\", add(num1, num2))\n",
        "    elif choice == '2':\n",
        "      print(\"Result:\", subtract(num1, num2))\n",
        "    elif choice == '3':\n",
        "      print(\"Result:\", multiply(num1, num2))\n",
        "    elif choice == '4':\n",
        "      print(\"Result:\", divide(num1, num2))\n",
        "    else:\n",
        "      print(\"Invalid input\")\n",
        "\n",
        "  except ValueError:\n",
        "    print(\"Invalid input. Please enter a number.\")\n",
        "  except ZeroDivisionError as e:\n",
        "    print(f\"Error: {e}\")\n",
        "  except Exception as e:\n",
        "    print(f\"An unexpected error occurred: {e}\")\n",
        "\n",
        "  finally:\n",
        "    print(\"Thank you for using Safe Calculator! \\nRestarting...\")"
      ],
      "metadata": {
        "colab": {
          "base_uri": "https://localhost:8080/"
        },
        "id": "yGovippfKnxL",
        "outputId": "53668e3c-8b0a-406d-9e63-75af5c0a7aa6"
      },
      "execution_count": 25,
      "outputs": [
        {
          "output_type": "stream",
          "name": "stdout",
          "text": [
            "\n",
            "---- Select operation ----\n",
            "1. Add\n",
            "2. Subtract\n",
            "3. Multiply\n",
            "4. Divide\n",
            "5. Exit\n",
            "Enter choice (1/2/3/4/5): 1\n",
            "Enter first number: 12\n",
            "Enter second number: 3\n",
            "Result: 15.0\n",
            "Thank you for using Safe Calculator! \n",
            "Restarting...\n",
            "\n",
            "---- Select operation ----\n",
            "1. Add\n",
            "2. Subtract\n",
            "3. Multiply\n",
            "4. Divide\n",
            "5. Exit\n",
            "Enter choice (1/2/3/4/5): 4\n",
            "Enter first number: 50\n",
            "Enter second number: 0\n",
            "Error: Cannot divide by zero\n",
            "Thank you for using Safe Calculator! \n",
            "Restarting...\n",
            "\n",
            "---- Select operation ----\n",
            "1. Add\n",
            "2. Subtract\n",
            "3. Multiply\n",
            "4. Divide\n",
            "5. Exit\n",
            "Enter choice (1/2/3/4/5): 3\n",
            "Enter first number: 12\n",
            "Enter second number: ghi\n",
            "Invalid input. Please enter a number.\n",
            "Thank you for using Safe Calculator! \n",
            "Restarting...\n",
            "\n",
            "---- Select operation ----\n",
            "1. Add\n",
            "2. Subtract\n",
            "3. Multiply\n",
            "4. Divide\n",
            "5. Exit\n",
            "Enter choice (1/2/3/4/5): 5\n",
            "Exiting the calculator. Goodbye!\n"
          ]
        }
      ]
    }
  ]
}