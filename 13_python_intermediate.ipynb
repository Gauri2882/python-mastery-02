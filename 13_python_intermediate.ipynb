{
  "nbformat": 4,
  "nbformat_minor": 0,
  "metadata": {
    "colab": {
      "provenance": []
    },
    "kernelspec": {
      "name": "python3",
      "display_name": "Python 3"
    },
    "language_info": {
      "name": "python"
    }
  },
  "cells": [
    {
      "cell_type": "markdown",
      "source": [
        "# Functions with Return Values\n",
        "\n",
        "\n",
        "*   Return values in functions\n",
        "*   Perform calculation\n",
        "*   Return multiple values\n",
        "*   Best practice for return values\n"
      ],
      "metadata": {
        "id": "4Yx7w8AbIHc4"
      }
    },
    {
      "cell_type": "code",
      "source": [
        "def add(a, b):\n",
        "  return a + b\n",
        "\n",
        "result = add(5, 3)\n",
        "print(result)"
      ],
      "metadata": {
        "colab": {
          "base_uri": "https://localhost:8080/"
        },
        "id": "-4KGFlV-NvYX",
        "outputId": "cd9bbbee-a83a-4d37-af48-b2280deddc10"
      },
      "execution_count": 26,
      "outputs": [
        {
          "output_type": "stream",
          "name": "stdout",
          "text": [
            "8\n"
          ]
        }
      ]
    },
    {
      "cell_type": "code",
      "source": [
        "#Perform calculation\n",
        "def rectangle_area(length, width):\n",
        "  return length * width\n",
        "\n",
        "area = rectangle_area(5, 3)\n",
        "print(area)"
      ],
      "metadata": {
        "colab": {
          "base_uri": "https://localhost:8080/"
        },
        "id": "mAiTDZ0qN7rV",
        "outputId": "8541e8a8-4578-4597-e456-24a895dbb0c1"
      },
      "execution_count": 27,
      "outputs": [
        {
          "output_type": "stream",
          "name": "stdout",
          "text": [
            "15\n"
          ]
        }
      ]
    },
    {
      "cell_type": "code",
      "source": [
        "# Return multiple values\n",
        "def math_operations(a, b):\n",
        "  add = a + b\n",
        "  subtract = a - b\n",
        "  multiply = a * b\n",
        "  divide = a / b\n",
        "  return add, subtract, multiply, divide\n",
        "\n",
        "add, subtract, multiply, divide = math_operations(10, 2)\n",
        "print(subtract)\n",
        "\n",
        "result = math_operations(5, 2)\n",
        "print(result)"
      ],
      "metadata": {
        "colab": {
          "base_uri": "https://localhost:8080/"
        },
        "id": "8mJsctWAODcc",
        "outputId": "ed7201ed-cd12-4796-b62f-0298c02f820c"
      },
      "execution_count": 30,
      "outputs": [
        {
          "output_type": "stream",
          "name": "stdout",
          "text": [
            "8\n",
            "(7, 3, 10, 2.5)\n"
          ]
        }
      ]
    },
    {
      "cell_type": "markdown",
      "source": [
        "# Project: Temprature converter"
      ],
      "metadata": {
        "id": "o8VOZkSGNqD5"
      }
    },
    {
      "cell_type": "code",
      "source": [
        "# step 1: Define conversion functions\n",
        "def celsius_to_fahrenheit(celsius):\n",
        "  fahrenheit = (celsius * 9/5) + 32\n",
        "  return fahrenheit\n",
        "\n",
        "def fahrenheit_to_celsius(fahrenheit):\n",
        "  celsius = (fahrenheit - 32) * 5/9\n",
        "  return celsius\n",
        "\n",
        "def kelvin_to_celsius(kelvin):\n",
        "  celsius = kelvin - 273.15\n",
        "  return celsius\n",
        "\n",
        "def celsius_to_kelvin(celsius):\n",
        "  kelvin = celsius + 273.15\n",
        "  return kelvin\n",
        "\n",
        "def fahrenheit_to_kelvin(fahrenheit):\n",
        "  celsius = (fahrenheit - 32) * 5/9\n",
        "  kelvin = celsius + 273.15\n",
        "  return kelvin\n",
        "\n",
        "def kelvin_to_fahrenheit(kelvin):\n",
        "  celsius = kelvin - 273.15\n",
        "  fahrenheit = (celsius * 9/5) + 32\n",
        "  return fahrenheit\n",
        "\n",
        "# step 2: display the menu\n",
        "def display_menu():\n",
        "  print(\"\\n---- Temperature Converter Menu ----\")\n",
        "  print(\"1. Celsius to Fahrenheit & Kelvin\")\n",
        "  print(\"2. Fahrenheit to Celsius & Kelvin\")\n",
        "  print(\"3. Kelvin to Celsius & Fahrenheit\")\n",
        "  print(\"4. Exit\")\n",
        "\n",
        "# step 3: main program loop\n",
        "while True:\n",
        "  display_menu()\n",
        "  choice = input(\"Enter your choice (1-4): \")\n",
        "\n",
        "  if choice == '1':\n",
        "    celsius = float(input(\"Enter temperature in Celsius: \"))\n",
        "    fahrenheit = celsius_to_fahrenheit(celsius)\n",
        "    kelvin = celsius_to_kelvin(celsius)\n",
        "    print(f\"{celsius}°C is equal to {fahrenheit:.2f}°F and {kelvin:.2f}K\")\n",
        "  elif choice == '2':\n",
        "    fahrenheit = float(input(\"Enter temperature in Fahrenheit: \"))\n",
        "    celsius = fahrenheit_to_celsius(fahrenheit)\n",
        "    kelvin = fahrenheit_to_kelvin(fahrenheit)\n",
        "    print(f\"{fahrenheit}°F is equal to {celsius:.2f}°C and {kelvin:.2f}K\")\n",
        "  elif choice == '3':\n",
        "    kelvin = float(input(\"Enter temperature in Kelvin: \"))\n",
        "    celsius = kelvin_to_celsius(kelvin)\n",
        "    fahrenheit = kelvin_to_fahrenheit(kelvin)\n",
        "    print(f\"{kelvin}K is equal to {celsius:.2f}°C and {fahrenheit:.2f}°F\")\n",
        "  elif choice == '4':\n",
        "    print(\"Exiting the program. Goodbye!\")\n",
        "    break\n",
        "  else:\n",
        "    print(\"Invalid choice\")"
      ],
      "metadata": {
        "colab": {
          "base_uri": "https://localhost:8080/"
        },
        "id": "zRRnHB6rOCyj",
        "outputId": "4f1eda1d-c0e2-4880-e4f1-cfddc8a3b39e"
      },
      "execution_count": 31,
      "outputs": [
        {
          "output_type": "stream",
          "name": "stdout",
          "text": [
            "\n",
            "---- Temperature Converter Menu ----\n",
            "1. Celsius to Fahrenheit & Kelvin\n",
            "2. Fahrenheit to Celsius & Kelvin\n",
            "3. Kelvin to Celsius & Fahrenheit\n",
            "4. Exit\n",
            "Enter your choice (1-4): 1\n",
            "Enter temperature in Celsius: 36\n",
            "36.0°C is equal to 96.80°F and 309.15K\n",
            "\n",
            "---- Temperature Converter Menu ----\n",
            "1. Celsius to Fahrenheit & Kelvin\n",
            "2. Fahrenheit to Celsius & Kelvin\n",
            "3. Kelvin to Celsius & Fahrenheit\n",
            "4. Exit\n",
            "Enter your choice (1-4): 2\n",
            "Enter temperature in Fahrenheit: 146\n",
            "146.0°F is equal to 63.33°C and 336.48K\n",
            "\n",
            "---- Temperature Converter Menu ----\n",
            "1. Celsius to Fahrenheit & Kelvin\n",
            "2. Fahrenheit to Celsius & Kelvin\n",
            "3. Kelvin to Celsius & Fahrenheit\n",
            "4. Exit\n",
            "Enter your choice (1-4): 3\n",
            "Enter temperature in Kelvin: 32\n",
            "32.0K is equal to -241.15°C and -402.07°F\n",
            "\n",
            "---- Temperature Converter Menu ----\n",
            "1. Celsius to Fahrenheit & Kelvin\n",
            "2. Fahrenheit to Celsius & Kelvin\n",
            "3. Kelvin to Celsius & Fahrenheit\n",
            "4. Exit\n",
            "Enter your choice (1-4): 4\n",
            "Exiting the program. Goodbye!\n"
          ]
        }
      ]
    }
  ]
}