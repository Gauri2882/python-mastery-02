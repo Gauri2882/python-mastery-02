{
  "nbformat": 4,
  "nbformat_minor": 0,
  "metadata": {
    "colab": {
      "provenance": []
    },
    "kernelspec": {
      "name": "python3",
      "display_name": "Python 3"
    },
    "language_info": {
      "name": "python"
    }
  },
  "cells": [
    {
      "cell_type": "markdown",
      "source": [
        "# Modules and Libraries\n",
        "\n",
        "*   Importing modules\n",
        "*   Built-in python libraries\n",
        "*   Creating and using custom module\n"
      ],
      "metadata": {
        "id": "4Yx7w8AbIHc4"
      }
    },
    {
      "cell_type": "code",
      "source": [
        "import math\n",
        "\n",
        "print(math.sqrt(16))"
      ],
      "metadata": {
        "colab": {
          "base_uri": "https://localhost:8080/"
        },
        "id": "QeIClN_pUIzv",
        "outputId": "56a1c5f6-758f-43e7-eb12-81e2b198705c"
      },
      "execution_count": 41,
      "outputs": [
        {
          "output_type": "stream",
          "name": "stdout",
          "text": [
            "4.0\n"
          ]
        }
      ]
    },
    {
      "cell_type": "code",
      "source": [
        "import random\n",
        "\n",
        "print(random.randint(1, 10))"
      ],
      "metadata": {
        "colab": {
          "base_uri": "https://localhost:8080/"
        },
        "id": "HvtwYKlRUO6X",
        "outputId": "57d47f8d-9d90-46b0-8d4c-71ccb83c4478"
      },
      "execution_count": 49,
      "outputs": [
        {
          "output_type": "stream",
          "name": "stdout",
          "text": [
            "8\n"
          ]
        }
      ]
    },
    {
      "cell_type": "code",
      "source": [
        "from random import choices\n",
        "\n",
        "print(choices(['a', 'b', 'c']))"
      ],
      "metadata": {
        "colab": {
          "base_uri": "https://localhost:8080/"
        },
        "id": "7s4vj32wUX6w",
        "outputId": "f549a08a-9cd6-47c4-feb6-d196e91858dc"
      },
      "execution_count": 56,
      "outputs": [
        {
          "output_type": "stream",
          "name": "stdout",
          "text": [
            "['c']\n"
          ]
        }
      ]
    },
    {
      "cell_type": "code",
      "source": [
        "import random as r\n",
        "\n",
        "print(r.randint(1, 10))"
      ],
      "metadata": {
        "colab": {
          "base_uri": "https://localhost:8080/"
        },
        "id": "hAZl41qNUh0S",
        "outputId": "a78d58c0-3c7d-4e6b-a473-ce4e7808947c"
      },
      "execution_count": 57,
      "outputs": [
        {
          "output_type": "stream",
          "name": "stdout",
          "text": [
            "1\n"
          ]
        }
      ]
    },
    {
      "cell_type": "code",
      "source": [
        "from random import *\n",
        "\n",
        "print(randint(1, 10))"
      ],
      "metadata": {
        "colab": {
          "base_uri": "https://localhost:8080/"
        },
        "id": "mf3g6HR1UoHg",
        "outputId": "bba219fd-0873-482e-e47c-fefe03d36388"
      },
      "execution_count": 58,
      "outputs": [
        {
          "output_type": "stream",
          "name": "stdout",
          "text": [
            "10\n"
          ]
        }
      ]
    },
    {
      "cell_type": "code",
      "source": [
        "import random\n",
        "\n",
        "password = ''.join(random.choices('abcdefghijklmnopqrstuvwxyzABCDEFGHIJKLMNOPQRSTUVWXYZ0123456789', k=12))\n",
        "\n",
        "print(password)"
      ],
      "metadata": {
        "colab": {
          "base_uri": "https://localhost:8080/"
        },
        "id": "iMU9IPb_UvO9",
        "outputId": "9a366261-4fe4-4e23-e584-7a2cd3e9c4f4"
      },
      "execution_count": 63,
      "outputs": [
        {
          "output_type": "stream",
          "name": "stdout",
          "text": [
            "o4uvuVCElayJ\n"
          ]
        }
      ]
    },
    {
      "cell_type": "code",
      "source": [
        "# create greetings.py file and write below code and save it in the same directory\n",
        "\"\"\"\n",
        "def say_hello(name):\n",
        "  return f\"Hello, {name}!\"\n",
        "\"\"\"\n",
        "\n",
        "import greetings\n",
        "print(greetings.say_hello('John'))\n"
      ],
      "metadata": {
        "colab": {
          "base_uri": "https://localhost:8080/"
        },
        "id": "zn7kNiWTVE1a",
        "outputId": "6a1b05ba-3322-4573-a7b4-5494fff64ebe"
      },
      "execution_count": 64,
      "outputs": [
        {
          "output_type": "stream",
          "name": "stdout",
          "text": [
            "Hello, John!\n"
          ]
        }
      ]
    },
    {
      "cell_type": "markdown",
      "source": [
        "# Project: Random Password Generator"
      ],
      "metadata": {
        "id": "4XVypZvtV50U"
      }
    },
    {
      "cell_type": "code",
      "source": [
        "import random, string\n",
        "\n",
        "# step 1: Define password generation functions\n",
        "def generate_password(length = 12):\n",
        "  if length < 4:\n",
        "    raise ValueError(\"Password length must be at least 4 characters.\")\n",
        "\n",
        "  # characters sets for the password\n",
        "  uppercase = string.ascii_uppercase\n",
        "  lowercase = string.ascii_lowercase\n",
        "  digits = string.digits\n",
        "  special_chars = \"!@#$%^&*()_+{}|:<>?-=[]\\;',.\"\n",
        "\n",
        "  password = [\n",
        "      random.choice(uppercase),\n",
        "      random.choice(lowercase),\n",
        "      random.choice(digits),\n",
        "      random.choice(special_chars)\n",
        "  ]\n",
        "\n",
        "  # fill the remaining length with random choices from all sets\n",
        "  all_chars = uppercase + lowercase + digits + special_chars\n",
        "  password += random.choices(all_chars, k = length - 4)\n",
        "\n",
        "  # shuffle the password\n",
        "  random.shuffle(password)\n",
        "\n",
        "  # convert the password list to a string\n",
        "  password_str = ''.join(password)\n",
        "\n",
        "  return password_str\n",
        "\n",
        "\n",
        "# step 2: user interaction\n",
        "try:\n",
        "  length = int(input(\"Enter the desired password length: \"))\n",
        "  password = generate_password(length)\n",
        "  print(\"Generated password:\", password)\n",
        "except ValueError as e:\n",
        "  print(\"Error:\", e)"
      ],
      "metadata": {
        "colab": {
          "base_uri": "https://localhost:8080/"
        },
        "id": "2dH-uKWOV-ft",
        "outputId": "ec520d30-386b-45d0-8a2f-ae2826b3ced1"
      },
      "execution_count": 68,
      "outputs": [
        {
          "output_type": "stream",
          "name": "stdout",
          "text": [
            "Enter the desired password length: 56\n",
            "Generated password: @p]qg=C6r'D_<AD<Y<xr17=XpM)k<dZP4ex))8zgt76,,Ncp?!#P|)]'\n"
          ]
        }
      ]
    }
  ]
}