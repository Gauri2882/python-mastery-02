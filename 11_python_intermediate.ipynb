{
  "nbformat": 4,
  "nbformat_minor": 0,
  "metadata": {
    "colab": {
      "provenance": []
    },
    "kernelspec": {
      "name": "python3",
      "display_name": "Python 3"
    },
    "language_info": {
      "name": "python"
    }
  },
  "cells": [
    {
      "cell_type": "markdown",
      "source": [
        "# File handling\n",
        "\n",
        "\n",
        "*   Reading files\n",
        "*   Writing files\n",
        "*   Appending files\n",
        "\n",
        "\n"
      ],
      "metadata": {
        "id": "4Yx7w8AbIHc4"
      }
    },
    {
      "cell_type": "code",
      "source": [
        "file = open(\"file1.txt\", \"r+\")\n",
        "file.close()"
      ],
      "metadata": {
        "id": "WKNDlqKQi1O_"
      },
      "execution_count": 1,
      "outputs": []
    },
    {
      "cell_type": "code",
      "source": [
        "# with ensures file automatically closes\n",
        "# 'r' means reading\n",
        "\n",
        "with open(\"file1.txt\", \"r\") as file:\n",
        "  content = file.read()\n",
        "  print(content)"
      ],
      "metadata": {
        "colab": {
          "base_uri": "https://localhost:8080/"
        },
        "id": "Ou0NxzPM5Kyt",
        "outputId": "a1fe8b05-6f4a-4747-9cf0-f35aeb1a3af5"
      },
      "execution_count": 2,
      "outputs": [
        {
          "output_type": "stream",
          "name": "stdout",
          "text": [
            "Hello, Welcome to Python Programming!\n"
          ]
        }
      ]
    },
    {
      "cell_type": "code",
      "source": [
        "# 'w' means writing, which over-writes\n",
        "# if the given filename does not exist, it will create one\n",
        "\n",
        "with open(\"file1.txt\", \"w\") as file:\n",
        "  file.write(\"\\nThis line is written through code\\n\")"
      ],
      "metadata": {
        "id": "vnecGLah5yT7"
      },
      "execution_count": 3,
      "outputs": []
    },
    {
      "cell_type": "code",
      "source": [
        "with open(\"file1.txt\", \"r\") as file:\n",
        "  content = file.read()\n",
        "  print(content)"
      ],
      "metadata": {
        "colab": {
          "base_uri": "https://localhost:8080/"
        },
        "id": "XClXMB1K6MGK",
        "outputId": "46f7b099-1bc0-489c-ff9c-e86b6969733a"
      },
      "execution_count": 4,
      "outputs": [
        {
          "output_type": "stream",
          "name": "stdout",
          "text": [
            "\n",
            "This line is written through code\n",
            "\n"
          ]
        }
      ]
    },
    {
      "cell_type": "code",
      "source": [
        "# 'a' - append helps to write in existing file without overwritting like 'w'\n",
        "\n",
        "with open(\"file1.txt\", \"a\") as file:\n",
        "  file.write(\"\\nThis second line is written through code\\n\")"
      ],
      "metadata": {
        "id": "5w5J1Q6w6l9s"
      },
      "execution_count": 5,
      "outputs": []
    },
    {
      "cell_type": "code",
      "source": [
        "with open(\"file1.txt\", \"r\") as file:\n",
        "  content = file.read()\n",
        "  print(content)"
      ],
      "metadata": {
        "colab": {
          "base_uri": "https://localhost:8080/"
        },
        "id": "TgVYmgZa6tw9",
        "outputId": "efda955c-8ac3-4463-b094-ab993a883e22"
      },
      "execution_count": 6,
      "outputs": [
        {
          "output_type": "stream",
          "name": "stdout",
          "text": [
            "\n",
            "This line is written through code\n",
            "\n",
            "This second line is written through code\n",
            "\n"
          ]
        }
      ]
    },
    {
      "cell_type": "markdown",
      "source": [
        "# Project: Note-Taking App"
      ],
      "metadata": {
        "id": "fnIQPEMIixtF"
      }
    },
    {
      "cell_type": "code",
      "source": [
        "# step 1: define file name\n",
        "FILE_NAME = \"notes.txt\"\n",
        "\n",
        "# step 2: Display menu options\n",
        "def display_menu():\n",
        "  print(\"\\n----Menu----\")\n",
        "  print(\"1. Add a new Note\")\n",
        "  print(\"2. View all Notes\")\n",
        "  print(\"3. Delete all Notes\")\n",
        "  print(\"4. Exit\")\n",
        "\n",
        "# step 3: Add a new note\n",
        "def add_note():\n",
        "  note = input(\"Enter a new note: \")\n",
        "  with open(FILE_NAME, \"a\") as file:\n",
        "    file.write(note + \"\\n\")\n",
        "  print(\"Note added successfully!\")\n",
        "\n",
        "# step 4: View all notes\n",
        "def view_notes():\n",
        "  try:\n",
        "    with open(FILE_NAME, \"r\") as file:\n",
        "      notes = file.read()\n",
        "      if notes:\n",
        "        print(\"---- All Notes ----\")\n",
        "        print(notes)\n",
        "      else:\n",
        "        print(\"No notes found!\")\n",
        "  except FileNotFoundError:\n",
        "    print(\"No notes found!\")\n",
        "\n",
        "# step 5: Delete all notes\n",
        "def delete_notes():\n",
        "  confirm = input(\"Are you sure you want to delete all notes? (y/n): \")\n",
        "  if confirm.lower() == \"y\":\n",
        "    with open(FILE_NAME, \"w\") as file:\n",
        "      file.write(\"\")\n",
        "    print(\"All notes deleted successfully!\")\n",
        "  else:\n",
        "    print(\"Deletion canceled.\")\n",
        "\n",
        "# step 6: Main program loop\n",
        "while True:\n",
        "  display_menu()\n",
        "  choice = input(\"Enter your choice (1-4): \")\n",
        "  if choice == \"1\":\n",
        "    add_note()\n",
        "  elif choice == \"2\":\n",
        "    view_notes()\n",
        "  elif choice == \"3\":\n",
        "    delete_notes()\n",
        "  elif choice == \"4\":\n",
        "    print(\"Exiting the Note-Taking App. Goodbye!\")\n",
        "    break\n",
        "  else:\n",
        "    print(\"Invalid choice. Please enter a number between 1 and 4.\")"
      ],
      "metadata": {
        "colab": {
          "base_uri": "https://localhost:8080/"
        },
        "id": "FJ0qPx2m7FUI",
        "outputId": "bf8f06fb-ef4e-4704-d56b-2dff0074e479"
      },
      "execution_count": 8,
      "outputs": [
        {
          "output_type": "stream",
          "name": "stdout",
          "text": [
            "\n",
            "----Menu----\n",
            "1. Add a new Note\n",
            "2. View all Notes\n",
            "3. Delete all Notes\n",
            "4. Exit\n",
            "Enter your choice (1-4): 1\n",
            "Enter a new note: Hi, Good afternoon coders! My name is Gauri Patil\n",
            "Note added successfully!\n",
            "\n",
            "----Menu----\n",
            "1. Add a new Note\n",
            "2. View all Notes\n",
            "3. Delete all Notes\n",
            "4. Exit\n",
            "Enter your choice (1-4): 2\n",
            "---- All Notes ----\n",
            "Hi, Good afternoon coders! My name is Gauri Patil\n",
            "\n",
            "\n",
            "----Menu----\n",
            "1. Add a new Note\n",
            "2. View all Notes\n",
            "3. Delete all Notes\n",
            "4. Exit\n",
            "Enter your choice (1-4): 3\n",
            "Are you sure you want to delete all notes? (y/n): y\n",
            "All notes deleted successfully!\n",
            "\n",
            "----Menu----\n",
            "1. Add a new Note\n",
            "2. View all Notes\n",
            "3. Delete all Notes\n",
            "4. Exit\n",
            "Enter your choice (1-4): 4\n",
            "Exiting the Note-Taking App. Goodbye!\n"
          ]
        }
      ]
    }
  ]
}