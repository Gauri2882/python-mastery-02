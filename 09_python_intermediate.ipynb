{
  "nbformat": 4,
  "nbformat_minor": 0,
  "metadata": {
    "colab": {
      "provenance": []
    },
    "kernelspec": {
      "name": "python3",
      "display_name": "Python 3"
    },
    "language_info": {
      "name": "python"
    }
  },
  "cells": [
    {
      "cell_type": "markdown",
      "source": [
        "# Dictionaries\n",
        "\n",
        "\n",
        "*   Accessing and Modifying dictionary values\n",
        "*   Adding and Removing entries\n",
        "*   Looping through dictionary\n",
        "\n",
        "\n"
      ],
      "metadata": {
        "id": "4Yx7w8AbIHc4"
      }
    },
    {
      "cell_type": "code",
      "source": [
        "my_dict = {\n",
        "    \"key1\": \"value1\",\n",
        "    \"key2\": \"value2\",\n",
        "    \"key3\": \"value3\"\n",
        "}\n",
        "\n",
        "contact = {\n",
        "    'name' : \"John Doe\",\n",
        "    'phone' : \"555-555-5555\",\n",
        "    'email' : \"john@example.com\"\n",
        "}"
      ],
      "metadata": {
        "id": "V7krhYYQIJ_x"
      },
      "execution_count": 15,
      "outputs": []
    },
    {
      "cell_type": "code",
      "source": [
        "# accessing values\n",
        "print(contact[\"phone\"])\n",
        "\n",
        "print(contact.get(\"email\"))"
      ],
      "metadata": {
        "colab": {
          "base_uri": "https://localhost:8080/"
        },
        "id": "ySfYAEaeXszT",
        "outputId": "21945d5b-38c0-4d82-9bbc-6745b4d8b5fe"
      },
      "execution_count": 16,
      "outputs": [
        {
          "output_type": "stream",
          "name": "stdout",
          "text": [
            "555-555-5555\n",
            "john@example.com\n"
          ]
        }
      ]
    },
    {
      "cell_type": "code",
      "source": [
        "# modifying values\n",
        "print(contact)\n",
        "\n",
        "contact[\"phone\"] = \"123-456-7890\"\n",
        "\n",
        "print(contact)"
      ],
      "metadata": {
        "colab": {
          "base_uri": "https://localhost:8080/"
        },
        "id": "LEB_WyGZX_fd",
        "outputId": "f015e4c0-df91-43b6-b8ce-6494f8ff7153"
      },
      "execution_count": 17,
      "outputs": [
        {
          "output_type": "stream",
          "name": "stdout",
          "text": [
            "{'name': 'John Doe', 'phone': '555-555-5555', 'email': 'john@example.com'}\n",
            "{'name': 'John Doe', 'phone': '123-456-7890', 'email': 'john@example.com'}\n"
          ]
        }
      ]
    },
    {
      "cell_type": "code",
      "source": [
        "if \"email\" in contact:\n",
        "  print(\"Email found\")\n",
        "else:\n",
        "  print(\"Email not found\")"
      ],
      "metadata": {
        "colab": {
          "base_uri": "https://localhost:8080/"
        },
        "id": "KnmcbvW_ZIGz",
        "outputId": "c31acc6e-d7b3-4488-dd0d-fb183c253392"
      },
      "execution_count": 18,
      "outputs": [
        {
          "output_type": "stream",
          "name": "stdout",
          "text": [
            "Email found\n"
          ]
        }
      ]
    },
    {
      "cell_type": "code",
      "source": [
        "# adding element\n",
        "contact[\"address\"] = \"123 Main St\"\n",
        "\n",
        "print(contact)\n",
        "\n",
        "# removing element\n",
        "del contact[\"email\"]\n",
        "\n",
        "print(contact)"
      ],
      "metadata": {
        "colab": {
          "base_uri": "https://localhost:8080/"
        },
        "id": "4FeB4hEwYQuZ",
        "outputId": "ba67806e-65f9-409c-f3a8-6edc92a86f92"
      },
      "execution_count": 19,
      "outputs": [
        {
          "output_type": "stream",
          "name": "stdout",
          "text": [
            "{'name': 'John Doe', 'phone': '123-456-7890', 'email': 'john@example.com', 'address': '123 Main St'}\n",
            "{'name': 'John Doe', 'phone': '123-456-7890', 'address': '123 Main St'}\n"
          ]
        }
      ]
    },
    {
      "cell_type": "code",
      "source": [
        "# looping through dictionary\n",
        "for key, value in contact.items():\n",
        "  print(f\"{key} : {value}\")"
      ],
      "metadata": {
        "colab": {
          "base_uri": "https://localhost:8080/"
        },
        "id": "kUgE4Nv-YgMk",
        "outputId": "910b87c6-9d8f-460b-b631-a7a6fa8cb5de"
      },
      "execution_count": 20,
      "outputs": [
        {
          "output_type": "stream",
          "name": "stdout",
          "text": [
            "name : John Doe\n",
            "phone : 123-456-7890\n",
            "address : 123 Main St\n"
          ]
        }
      ]
    },
    {
      "cell_type": "code",
      "source": [
        "if \"email\" in contact:\n",
        "  print(\"Email found\")\n",
        "else:\n",
        "  print(\"Email not found\")"
      ],
      "metadata": {
        "colab": {
          "base_uri": "https://localhost:8080/"
        },
        "id": "Edm-O1RhY1w3",
        "outputId": "80faca53-86d8-4726-a4cc-456d7127fafb"
      },
      "execution_count": 21,
      "outputs": [
        {
          "output_type": "stream",
          "name": "stdout",
          "text": [
            "Email not found\n"
          ]
        }
      ]
    },
    {
      "cell_type": "markdown",
      "source": [
        "# Project: Contact Book"
      ],
      "metadata": {
        "id": "EoZsz9mDVkfz"
      }
    },
    {
      "cell_type": "code",
      "source": [
        "# step 1: Initialize an empty contact book\n",
        "contact_book = {}\n",
        "\n",
        "# step 2: Display the menu\n",
        "def display_menu():\n",
        "  print(\"\\n-----Contact Book Menu -----\")\n",
        "  print(\"1. View Contacts\")\n",
        "  print(\"2. Add Contact\")\n",
        "  print(\"3. Search Contact\")\n",
        "  print(\"4. Edit Contact\")\n",
        "  print(\"5. Delete Contact\")\n",
        "  print(\"6. Quit\")\n",
        "\n",
        "# step 3: View All contacts\n",
        "def view_contacts():\n",
        "  if contact_book:\n",
        "    print(\"\\n-----Contacts-----\")\n",
        "    for name, contact_info in contact_book.items():\n",
        "      print(f\"Name: {name}\")\n",
        "      print(f\"Phone: {contact_info['phone']}\")\n",
        "      print(f\"Email: {contact_info['email']}\")\n",
        "  else:\n",
        "    print(\"Contact book is empty.\")\n",
        "\n",
        "# step 4: Add a contact\n",
        "def add_contact():\n",
        "  name = input(\"Enter name: \")\n",
        "  phone = input(\"Enter phone number: \")\n",
        "  email = input(\"Enter email: \")\n",
        "  contact_book[name] = {\n",
        "      \"phone\": phone,\n",
        "      \"email\": email\n",
        "  }\n",
        "  print(f\"{name} has been added to the contact book.\")\n",
        "\n",
        "# step 5: Search a contact\n",
        "def search_contact():\n",
        "  name = input(\"Enter name to search: \")\n",
        "  if name in contact_book:\n",
        "    print(\"\\n-----Contact Found-----\")\n",
        "    print(f\"Name: {name}\")\n",
        "    print(f\"Phone: {contact_book[name]['phone']}\")\n",
        "    print(f\"Email: {contact_book[name]['email']}\")\n",
        "  else:\n",
        "    print(f\"{name} not found in the contact book.\")\n",
        "\n",
        "# step 6: Edit a contact\n",
        "def edit_contact():\n",
        "  name = input(\"Enter name to edit: \")\n",
        "  if name in contact_book:\n",
        "    phone = input(\"Enter new phone number: \")\n",
        "    email = input(\"Enter new email: \")\n",
        "    contact_book[name] = {\n",
        "        \"phone\": phone,\n",
        "        \"email\": email\n",
        "    }\n",
        "    print(f\"{name}'s contact has been updated.\")\n",
        "\n",
        "  else:\n",
        "    print(f\"{name} not found in the contact book.\")\n",
        "\n",
        "# step 7: Delete a contact\n",
        "def delete_contact():\n",
        "  name = input(\"Enter name to delete: \")\n",
        "  if name in contact_book:\n",
        "    del contact_book[name]\n",
        "    print(f\"{name} has been deleted from the contact book.\")\n",
        "  else:\n",
        "    print(f\"{name} not found in the contact book.\")\n",
        "\n",
        "# step 8: Main loop\n",
        "while True:\n",
        "  display_menu()\n",
        "  choice = input(\"Enter your choice (1-6): \")\n",
        "\n",
        "  if choice == \"1\":\n",
        "    view_contacts()\n",
        "  elif choice == \"2\":\n",
        "    add_contact()\n",
        "  elif choice == \"3\":\n",
        "    search_contact()\n",
        "  elif choice == \"4\":\n",
        "    edit_contact()\n",
        "  elif choice == \"5\":\n",
        "    delete_contact()\n",
        "  elif choice == \"6\":\n",
        "    print(\"Goodbye!\")\n",
        "    break\n",
        "  else:\n",
        "    print(\"Invalid choice. Please try again.\")"
      ],
      "metadata": {
        "colab": {
          "base_uri": "https://localhost:8080/"
        },
        "id": "W9FnLl8nZMYU",
        "outputId": "575a37e4-e1ec-489e-c34d-bb4092c0c050"
      },
      "execution_count": 22,
      "outputs": [
        {
          "output_type": "stream",
          "name": "stdout",
          "text": [
            "\n",
            "-----Contact Book Menu -----\n",
            "1. View Contacts\n",
            "2. Add Contact\n",
            "3. Search Contact\n",
            "4. Edit Contact\n",
            "5. Delete Contact\n",
            "6. Quit\n",
            "Enter your choice (1-6): 1\n",
            "Contact book is empty.\n",
            "\n",
            "-----Contact Book Menu -----\n",
            "1. View Contacts\n",
            "2. Add Contact\n",
            "3. Search Contact\n",
            "4. Edit Contact\n",
            "5. Delete Contact\n",
            "6. Quit\n",
            "Enter your choice (1-6): 2\n",
            "Enter name: ABC\n",
            "Enter phone number: 12345\n",
            "Enter email: abc@abc.com\n",
            "ABC has been added to the contact book.\n",
            "\n",
            "-----Contact Book Menu -----\n",
            "1. View Contacts\n",
            "2. Add Contact\n",
            "3. Search Contact\n",
            "4. Edit Contact\n",
            "5. Delete Contact\n",
            "6. Quit\n",
            "Enter your choice (1-6): 3\n",
            "Enter name to search: ABC\n",
            "\n",
            "-----Contact Found-----\n",
            "Name: ABC\n",
            "Phone: 12345\n",
            "Email: abc@abc.com\n",
            "\n",
            "-----Contact Book Menu -----\n",
            "1. View Contacts\n",
            "2. Add Contact\n",
            "3. Search Contact\n",
            "4. Edit Contact\n",
            "5. Delete Contact\n",
            "6. Quit\n",
            "Enter your choice (1-6): 4\n",
            "Enter name to edit: ABC\n",
            "Enter new phone number: 12345\n",
            "Enter new email: abc@xyz.com\n",
            "ABC's contact has been updated.\n",
            "\n",
            "-----Contact Book Menu -----\n",
            "1. View Contacts\n",
            "2. Add Contact\n",
            "3. Search Contact\n",
            "4. Edit Contact\n",
            "5. Delete Contact\n",
            "6. Quit\n",
            "Enter your choice (1-6): 5\n",
            "Enter name to delete: Abc\n",
            "Abc not found in the contact book.\n",
            "\n",
            "-----Contact Book Menu -----\n",
            "1. View Contacts\n",
            "2. Add Contact\n",
            "3. Search Contact\n",
            "4. Edit Contact\n",
            "5. Delete Contact\n",
            "6. Quit\n",
            "Enter your choice (1-6): ABC\n",
            "Invalid choice. Please try again.\n",
            "\n",
            "-----Contact Book Menu -----\n",
            "1. View Contacts\n",
            "2. Add Contact\n",
            "3. Search Contact\n",
            "4. Edit Contact\n",
            "5. Delete Contact\n",
            "6. Quit\n",
            "Enter your choice (1-6): 5\n",
            "Enter name to delete: ABC\n",
            "ABC has been deleted from the contact book.\n",
            "\n",
            "-----Contact Book Menu -----\n",
            "1. View Contacts\n",
            "2. Add Contact\n",
            "3. Search Contact\n",
            "4. Edit Contact\n",
            "5. Delete Contact\n",
            "6. Quit\n",
            "Enter your choice (1-6): 1\n",
            "Contact book is empty.\n",
            "\n",
            "-----Contact Book Menu -----\n",
            "1. View Contacts\n",
            "2. Add Contact\n",
            "3. Search Contact\n",
            "4. Edit Contact\n",
            "5. Delete Contact\n",
            "6. Quit\n",
            "Enter your choice (1-6): 6\n",
            "Goodbye!\n"
          ]
        }
      ]
    }
  ]
}