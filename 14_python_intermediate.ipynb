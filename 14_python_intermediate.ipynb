{
  "nbformat": 4,
  "nbformat_minor": 0,
  "metadata": {
    "colab": {
      "provenance": []
    },
    "kernelspec": {
      "name": "python3",
      "display_name": "Python 3"
    },
    "language_info": {
      "name": "python"
    }
  },
  "cells": [
    {
      "cell_type": "markdown",
      "source": [
        "# List Comprehensions\n",
        "\n",
        "*   Syntax and Examples\n",
        "*   Filtering\n",
        "*   Using Conditional statements\n"
      ],
      "metadata": {
        "id": "4Yx7w8AbIHc4"
      }
    },
    {
      "cell_type": "code",
      "source": [
        "sqaures = [x ** 2 for x in range(10)]\n",
        "print(sqaures)"
      ],
      "metadata": {
        "colab": {
          "base_uri": "https://localhost:8080/"
        },
        "id": "m3ab7zOMQuBK",
        "outputId": "73acd06d-e812-4a82-9dab-6eff03ad7a46"
      },
      "execution_count": 32,
      "outputs": [
        {
          "output_type": "stream",
          "name": "stdout",
          "text": [
            "[0, 1, 4, 9, 16, 25, 36, 49, 64, 81]\n"
          ]
        }
      ]
    },
    {
      "cell_type": "code",
      "source": [
        "numbers = [1, 2, 3, 4, 5]\n",
        "doubled = [x * 2 for x in numbers]\n",
        "print(doubled)"
      ],
      "metadata": {
        "colab": {
          "base_uri": "https://localhost:8080/"
        },
        "id": "Jmh-vPeMQ4Fm",
        "outputId": "af908cbd-536f-4776-be7a-e57da37661e0"
      },
      "execution_count": 33,
      "outputs": [
        {
          "output_type": "stream",
          "name": "stdout",
          "text": [
            "[2, 4, 6, 8, 10]\n"
          ]
        }
      ]
    },
    {
      "cell_type": "code",
      "source": [
        "numbers = [1, 2, 3, 4, 5, 6, 7]\n",
        "evens = [x for x in numbers if x % 2 == 0]\n",
        "print(evens)"
      ],
      "metadata": {
        "colab": {
          "base_uri": "https://localhost:8080/"
        },
        "id": "l_4ErvUrRFGD",
        "outputId": "74a4e832-3b49-40aa-d233-d26d35520bf9"
      },
      "execution_count": 34,
      "outputs": [
        {
          "output_type": "stream",
          "name": "stdout",
          "text": [
            "[2, 4, 6]\n"
          ]
        }
      ]
    },
    {
      "cell_type": "code",
      "source": [
        "name = [\"Alice\", \"Bob\", \"Charlie\", \"Dave\"]\n",
        "short_names = [x for x in name if len(x) < 5]\n",
        "print(short_names)"
      ],
      "metadata": {
        "colab": {
          "base_uri": "https://localhost:8080/"
        },
        "id": "InqKmn2FROti",
        "outputId": "4ddb4543-1017-420a-fe00-b0d583f6a623"
      },
      "execution_count": 37,
      "outputs": [
        {
          "output_type": "stream",
          "name": "stdout",
          "text": [
            "['Bob', 'Dave']\n"
          ]
        }
      ]
    },
    {
      "cell_type": "code",
      "source": [
        "numbers= [1, 2, 3, 4, 5, 6]\n",
        "labels = [\"Even\" if x % 2 == 0 else \"Odd\" for x in numbers]\n",
        "print(numbers)\n",
        "print(labels)"
      ],
      "metadata": {
        "colab": {
          "base_uri": "https://localhost:8080/"
        },
        "id": "_zTHGLenRm67",
        "outputId": "e1c8e848-f7ab-492b-d91b-f2c27c66e8b3"
      },
      "execution_count": 38,
      "outputs": [
        {
          "output_type": "stream",
          "name": "stdout",
          "text": [
            "[1, 2, 3, 4, 5, 6]\n",
            "['Odd', 'Even', 'Odd', 'Even', 'Odd', 'Even']\n"
          ]
        }
      ]
    },
    {
      "cell_type": "markdown",
      "source": [
        "# Project: Student Grade Manager"
      ],
      "metadata": {
        "id": "bTgA2iI3Qq5G"
      }
    },
    {
      "cell_type": "code",
      "source": [
        "# step 1: Get student scores\n",
        "student_scores = input(\"Enter student scores separated by commas: \")\n",
        "scores = [int(score) for score in student_scores.split(\",\")]\n",
        "\n",
        "# step 2: assign grades using list comprehension\n",
        "grades = [\n",
        "    \"A\" if score >= 90 else\n",
        "    \"B\" if score >= 80 else\n",
        "    \"C\" if score >= 70 else\n",
        "    \"D\" if score >= 60 else\n",
        "    \"F\" for score in scores\n",
        "]\n",
        "\n",
        "# step 3: filter passing and failing students\n",
        "passing_scores = [score for score in scores if score >= 60]\n",
        "failing_scores = [score for score in scores if score < 60]\n",
        "\n",
        "# step 4: print results\n",
        "print(\"\\n---- Students Scores ----\")\n",
        "for i, (score, grade) in enumerate(zip(scores, grades)):\n",
        "    print(f\"Student {i + 1}: {score} - {grade}\")\n",
        "\n",
        "print(\"\\n---- Passing Scores ----\")\n",
        "print(\"Passing students: \", passing_scores)\n",
        "print(\"Failing students: \", failing_scores)"
      ],
      "metadata": {
        "colab": {
          "base_uri": "https://localhost:8080/"
        },
        "id": "TkOPQtJaR6gc",
        "outputId": "d71aacd4-3c4b-45c8-e989-f00c594c3f93"
      },
      "execution_count": 40,
      "outputs": [
        {
          "output_type": "stream",
          "name": "stdout",
          "text": [
            "Enter student scores separated by commas: 70, 50, 30, 45, 80, 90, 100\n",
            "\n",
            "---- Students Scores ----\n",
            "Student 1: 70 - C\n",
            "Student 2: 50 - F\n",
            "Student 3: 30 - F\n",
            "Student 4: 45 - F\n",
            "Student 5: 80 - B\n",
            "Student 6: 90 - A\n",
            "Student 7: 100 - A\n",
            "\n",
            "---- Passing Scores ----\n",
            "Passing students:  [70, 80, 90, 100]\n",
            "Failing students:  [50, 30, 45]\n"
          ]
        }
      ]
    }
  ]
}