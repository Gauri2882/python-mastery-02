{
  "nbformat": 4,
  "nbformat_minor": 0,
  "metadata": {
    "colab": {
      "provenance": []
    },
    "kernelspec": {
      "name": "python3",
      "display_name": "Python 3"
    },
    "language_info": {
      "name": "python"
    }
  },
  "cells": [
    {
      "cell_type": "markdown",
      "source": [
        "# Tuples and Sets\n",
        "\n",
        "\n",
        "*   Tuple Operations and Unpacking\n",
        "*   Set Operation: (Union, Intersection, Difference)\n",
        "\n",
        "\n"
      ],
      "metadata": {
        "id": "4Yx7w8AbIHc4"
      }
    },
    {
      "cell_type": "markdown",
      "source": [
        "tuple"
      ],
      "metadata": {
        "id": "gb6TUrHPe5d2"
      }
    },
    {
      "cell_type": "code",
      "source": [
        "my_tuple = (1, 2, 3)\n",
        "\n",
        "fruits = (\"apple\", \"banana\", \"cherry\")\n",
        "\n",
        "print(fruits[0]) # first element\n",
        "print(fruits[-1]) # last element"
      ],
      "metadata": {
        "colab": {
          "base_uri": "https://localhost:8080/"
        },
        "id": "hlC45QT_c_oA",
        "outputId": "e63ba152-68bd-48f6-fcfc-ba279fb16b80"
      },
      "execution_count": 3,
      "outputs": [
        {
          "output_type": "stream",
          "name": "stdout",
          "text": [
            "apple\n",
            "cherry\n"
          ]
        }
      ]
    },
    {
      "cell_type": "markdown",
      "source": [
        "tuple operations:"
      ],
      "metadata": {
        "id": "IiIYJ6Rde0vA"
      }
    },
    {
      "cell_type": "code",
      "source": [
        "coordinates = (10, 20, 30)\n",
        "\n",
        "x, y, z = coordinates\n",
        "\n",
        "print(x)\n",
        "print(y)\n",
        "print(z)"
      ],
      "metadata": {
        "colab": {
          "base_uri": "https://localhost:8080/"
        },
        "id": "Z9mGvMOtdiZA",
        "outputId": "cf5d30d8-5d4c-4ee5-e1b6-92cc31c01f94"
      },
      "execution_count": 4,
      "outputs": [
        {
          "output_type": "stream",
          "name": "stdout",
          "text": [
            "10\n",
            "20\n",
            "30\n"
          ]
        }
      ]
    },
    {
      "cell_type": "code",
      "source": [
        "fruits = (\"apple\", \"banana\", \"cherry\")\n",
        "print(len(fruits))"
      ],
      "metadata": {
        "colab": {
          "base_uri": "https://localhost:8080/"
        },
        "id": "M0Euv-heee4J",
        "outputId": "1f8d32a4-aebe-4dfc-e17c-d75bca033c8a"
      },
      "execution_count": 5,
      "outputs": [
        {
          "output_type": "stream",
          "name": "stdout",
          "text": [
            "3\n"
          ]
        }
      ]
    },
    {
      "cell_type": "code",
      "source": [
        "print(fruits + (\"orange\",))"
      ],
      "metadata": {
        "colab": {
          "base_uri": "https://localhost:8080/"
        },
        "id": "exd-EC0GelJx",
        "outputId": "2dc7b941-7fb9-44b2-e790-f6cdaed25daf"
      },
      "execution_count": 6,
      "outputs": [
        {
          "output_type": "stream",
          "name": "stdout",
          "text": [
            "('apple', 'banana', 'cherry', 'orange')\n"
          ]
        }
      ]
    },
    {
      "cell_type": "markdown",
      "source": [
        "set"
      ],
      "metadata": {
        "id": "TgEBfv8Fe240"
      }
    },
    {
      "cell_type": "code",
      "source": [
        "my_set = {1, 2, 3}\n",
        "\n",
        "ingredients = {\"apple\", \"banana\", \"cherry\"}\n",
        "\n",
        "print(ingredients)"
      ],
      "metadata": {
        "colab": {
          "base_uri": "https://localhost:8080/"
        },
        "id": "T1kLBRaZe6vL",
        "outputId": "af4ed456-93ec-4128-f982-8ecb282b21ee"
      },
      "execution_count": 7,
      "outputs": [
        {
          "output_type": "stream",
          "name": "stdout",
          "text": [
            "{'cherry', 'apple', 'banana'}\n"
          ]
        }
      ]
    },
    {
      "cell_type": "code",
      "source": [
        "ingredients.add(\"orange\")\n",
        "\n",
        "print(ingredients)"
      ],
      "metadata": {
        "colab": {
          "base_uri": "https://localhost:8080/"
        },
        "id": "b1S36KoyfFfc",
        "outputId": "d6e50a1b-33a4-456f-c39c-cfdcf6e20397"
      },
      "execution_count": 8,
      "outputs": [
        {
          "output_type": "stream",
          "name": "stdout",
          "text": [
            "{'cherry', 'apple', 'orange', 'banana'}\n"
          ]
        }
      ]
    },
    {
      "cell_type": "code",
      "source": [
        "ingredients.remove(\"apple\")\n",
        "\n",
        "print(ingredients)"
      ],
      "metadata": {
        "colab": {
          "base_uri": "https://localhost:8080/"
        },
        "id": "QXWtAXT2fGVH",
        "outputId": "53ae42fc-88b0-497c-e56f-5c372becdf6e"
      },
      "execution_count": 9,
      "outputs": [
        {
          "output_type": "stream",
          "name": "stdout",
          "text": [
            "{'cherry', 'orange', 'banana'}\n"
          ]
        }
      ]
    },
    {
      "cell_type": "markdown",
      "source": [
        "set operations"
      ],
      "metadata": {
        "id": "RB_PlzbQfKx-"
      }
    },
    {
      "cell_type": "code",
      "source": [
        "set_a = {\"flour\", \"sugar\", \"eggs\"}\n",
        "set_b = {\"sugar\", \"eggs\", \"butter\"}\n",
        "\n",
        "print(set_a.union(set_b))\n",
        "print(set_a.intersection(set_b))\n",
        "print(set_a.difference(set_b))\n",
        "print(set_a.symmetric_difference(set_b))\n",
        "\n",
        "\"\"\"OR\"\"\"\n",
        "print(\"\\n\")\n",
        "\n",
        "print(set_a | set_b) # union\n",
        "print(set_a & set_b) # intersection\n",
        "print(set_a - set_b) # difference\n",
        "print(set_a ^ set_b) # symmetric difference\n",
        "\n"
      ],
      "metadata": {
        "colab": {
          "base_uri": "https://localhost:8080/"
        },
        "id": "E40WTgMafQCo",
        "outputId": "9b64db2e-9bfb-4677-9ac3-9651b600ab89"
      },
      "execution_count": 10,
      "outputs": [
        {
          "output_type": "stream",
          "name": "stdout",
          "text": [
            "{'butter', 'flour', 'sugar', 'eggs'}\n",
            "{'sugar', 'eggs'}\n",
            "{'flour'}\n",
            "{'butter', 'flour'}\n",
            "\n",
            "\n",
            "{'butter', 'flour', 'sugar', 'eggs'}\n",
            "{'sugar', 'eggs'}\n",
            "{'flour'}\n",
            "{'butter', 'flour'}\n"
          ]
        }
      ]
    },
    {
      "cell_type": "markdown",
      "source": [
        "# Project: Ingredient Checker"
      ],
      "metadata": {
        "id": "CJr-fOlhdAoG"
      }
    },
    {
      "cell_type": "code",
      "source": [
        "# step 1: Define the reciepe ingredients\n",
        "reciepe_ingredients = {\"flour\", \"sugar\", \"eggs\", \"butter\", \"baking powder\"}\n",
        "\n",
        "# step 2: Get user input for available ingredients\n",
        "user_input = input(\"Enter the available ingredients separated by commas: \")\n",
        "available_ingredients = set(user_input.split(\", \"))\n",
        "\n",
        "# step 3: Check if the user can make the reciepe\n",
        "missing_ingredients = reciepe_ingredients - available_ingredients\n",
        "extra_ingredients = available_ingredients - reciepe_ingredients\n",
        "\n",
        "# step 4: Display result\n",
        "print(\"\\n---- Ingredient Check Results\")\n",
        "if missing_ingredients:\n",
        "  print(f\"You are missing the following ingredients: {', '.join(missing_ingredients)}\")\n",
        "else:\n",
        "  print(\"You have all the ingredients needed!\")\n",
        "\n",
        "if extra_ingredients:\n",
        "  print(f\"You have extra ingredients: {', '.join(extra_ingredients)}\")\n",
        "else:\n",
        "  print(\"You have all the ingredients needed!\")"
      ],
      "metadata": {
        "colab": {
          "base_uri": "https://localhost:8080/"
        },
        "id": "RossMpdJgcc8",
        "outputId": "c747ff22-0928-4942-fbc4-e8038bf719ca"
      },
      "execution_count": 11,
      "outputs": [
        {
          "output_type": "stream",
          "name": "stdout",
          "text": [
            "Enter the available ingredients separated by commas: flour, sugar, eggs, flour, salt, pepper\n",
            "\n",
            "---- Ingredient Check Results\n",
            "You are missing the following ingredients: butter, baking powder\n",
            "You have extra ingredients: salt, pepper\n"
          ]
        }
      ]
    }
  ]
}